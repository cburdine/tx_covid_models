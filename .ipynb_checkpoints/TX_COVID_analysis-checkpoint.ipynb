{
 "cells": [
  {
   "cell_type": "markdown",
   "id": "certain-punch",
   "metadata": {},
   "source": [
    "### Texas COVID-19 Data analysis\n",
    "\n",
    "---\n",
    "\n"
   ]
  },
  {
   "cell_type": "code",
   "execution_count": 31,
   "id": "synthetic-partition",
   "metadata": {},
   "outputs": [],
   "source": [
    "import re\n",
    "import pandas as pd\n",
    "import numpy as np\n",
    "import matplotlib.pyplot as plt\n",
    "\n",
    "#======================================================================\n",
    "DATA_DIR = './data/'\n",
    "\n",
    "DATA = {\n",
    "    'active_cases' : 'TexasCOVID-19ActiveCaseDatabyCounty.xlsx',\n",
    "    'case_counts' : 'TexasCOVID-19CaseCountDatabyCounty.xlsx',\n",
    "    'fatality_counts' : 'TexasCOVID-19FatalityCountDatabyCounty.xlsx',\n",
    "    'legacy_active_cases' : 'TexasCOVID-19LegacyActiveCaseDatabyCounty.xlsx',\n",
    "    'new_confirmed_cases' : 'TexasCOVID-19NewConfirmedCasesbyCounty.xlsx',\n",
    "    'new_probable_cases' : 'TexasCOVID-19NewProbableCasesbyCounty.xlsx',\n",
    "    'probable_cases' : 'TexasCOVID-19ProbableCasesbyCounty.xlsx',\n",
    "}\n",
    "\n",
    "DEFAULT_COUNTY = 'McLennan'\n",
    "\n",
    "# date of first data point (hardcoded by dataset):\n",
    "DATA_START_DATES = {\n",
    "    'active_cases' :        np.datetime64('2020-12-11'),\n",
    "    'legacy_active_cases' : np.datetime64('2020-04-07'),\n",
    "    'case_counts' :         np.datetime64('2020-03-04'),\n",
    "    \n",
    "}\n",
    "\n",
    "\n",
    "\n",
    "#=======================================================================\n",
    "\n",
    "def load_active_cases(county=DEFAULT_COUNTY):\n",
    "    # import couty of interest data\n",
    "    new_coi_data = pd.read_excel(DATA_DIR + DATA['active_cases'], index_col=None, header=2) \\\n",
    "        .query(f'County == \\'{county}\\'')\n",
    "\n",
    "    # import county of interest legacy data:\n",
    "    leg_coi_data = pd.read_excel(DATA_DIR + DATA['legacy_active_cases'], index_col=None, header=2) \\\n",
    "        .query(f'County == \\'{county}\\'')\n",
    "\n",
    "    # trim datasets:\n",
    "    new_coi_y = new_coi_data.to_numpy()[0,2:]\n",
    "    leg_coi_y = leg_coi_data.to_numpy()[0,2:]\n",
    "    coi_y = np.concatenate((leg_coi_y, new_coi_y))\n",
    "\n",
    "    # initialize date ranges:\n",
    "    start_t = DATA_START_DATES['legacy_active_cases']\n",
    "    end_t = start_t + np.timedelta64(len(coi_y), 'D')\n",
    "    coi_t = np.arange(start_t, end_t, dtype='datetime64[D]')\n",
    "\n",
    "    # return (dates, # of active cases)\n",
    "    return (coi_t, coi_y)\n",
    "\n",
    "def load_case_counts(county=DEFAULT_COUNTY):\n",
    "    # import county of interest data:\n",
    "    coi_data = pd.read_excel(DATA_DIR + DATA['case_counts'], index_col=None, header=2) \\\n",
    "        .query(f'\\'County Name\\' == \\'{county}\\'')\n",
    "    coi_y = coi_data.to_numpy()[0,1:]\n",
    "    \n",
    "    # initialize data ranges:\n",
    "    start_t = DATA_START_DATES['case_counts']\n",
    "    end_t = start_t + np.timedelta64(len(coi_y), 'D')\n",
    "    coi_t = np.arange(start_t, end_t, dtype='datetime64[D]')\n",
    "\n",
    "    # return (dates, case counts)\n",
    "    return (coi_t, coi_y)\n",
    "    "
   ]
  },
  {
   "cell_type": "code",
   "execution_count": 29,
   "id": "oriental-brush",
   "metadata": {},
   "outputs": [
    {
     "name": "stderr",
     "output_type": "stream",
     "text": [
      "/shared/colin/git/tx_covid_models/env/lib/python3.8/site-packages/openpyxl/styles/stylesheet.py:214: UserWarning: Workbook contains no default style, apply openpyxl's default\n",
      "  warn(\"Workbook contains no default style, apply openpyxl's default\")\n"
     ]
    },
    {
     "name": "stdout",
     "output_type": "stream",
     "text": [
      "# of days tracked:  322\n"
     ]
    },
    {
     "data": {
      "image/png": "[encoded data removed]",
      "text/plain": [
       "<Figure size 720x288 with 1 Axes>"
      ]
     },
     "metadata": {
      "needs_background": "light"
     },
     "output_type": "display_data"
    }
   ],
   "source": [
    "# load active cases:\n",
    "coi_t, coi_y = load_active_cases()\n",
    "\n",
    "# indicate $ of data points:\n",
    "print('# of days tracked: ', len(coi_t))\n",
    "\n",
    "# plot active cases:\n",
    "plt.figure(figsize=(10,4))\n",
    "plt.ylabel('# of Active Cases')\n",
    "plt.title(f'Number of active cases ({coi_t[0]} to {coi_t[-1]})')\n",
    "plt.plot(coi_t, coi_y)\n",
    "plt.show()"
   ]
  },
  {
   "cell_type": "code",
   "execution_count": 32,
   "id": "external-print",
   "metadata": {},
   "outputs": [
    {
     "ename": "SyntaxError",
     "evalue": "invalid syntax (<unknown>, line 1)",
     "output_type": "error",
     "traceback": [
      "Traceback \u001b[0;36m(most recent call last)\u001b[0m:\n",
      "  File \u001b[1;32m\"/shared/colin/git/tx_covid_models/env/lib/python3.8/site-packages/IPython/core/interactiveshell.py\"\u001b[0m, line \u001b[1;32m3427\u001b[0m, in \u001b[1;35mrun_code\u001b[0m\n    exec(code_obj, self.user_global_ns, self.user_ns)\n",
      "  File \u001b[1;32m\"<ipython-input-32-4bc77f8221b0>\"\u001b[0m, line \u001b[1;32m2\u001b[0m, in \u001b[1;35m<module>\u001b[0m\n    coi_t, coi_y = load_case_counts()\n",
      "  File \u001b[1;32m\"<ipython-input-31-014dc3479f97>\"\u001b[0m, line \u001b[1;32m57\u001b[0m, in \u001b[1;35mload_case_counts\u001b[0m\n    coi_data = pd.read_excel(DATA_DIR + DATA['case_counts'], index_col=None, header=2) \\\n",
      "  File \u001b[1;32m\"/shared/colin/git/tx_covid_models/env/lib/python3.8/site-packages/pandas/core/frame.py\"\u001b[0m, line \u001b[1;32m3466\u001b[0m, in \u001b[1;35mquery\u001b[0m\n    res = self.eval(expr, **kwargs)\n",
      "  File \u001b[1;32m\"/shared/colin/git/tx_covid_models/env/lib/python3.8/site-packages/pandas/core/frame.py\"\u001b[0m, line \u001b[1;32m3596\u001b[0m, in \u001b[1;35meval\u001b[0m\n    return _eval(expr, inplace=inplace, **kwargs)\n",
      "  File \u001b[1;32m\"/shared/colin/git/tx_covid_models/env/lib/python3.8/site-packages/pandas/core/computation/eval.py\"\u001b[0m, line \u001b[1;32m342\u001b[0m, in \u001b[1;35meval\u001b[0m\n    parsed_expr = Expr(expr, engine=engine, parser=parser, env=env)\n",
      "  File \u001b[1;32m\"/shared/colin/git/tx_covid_models/env/lib/python3.8/site-packages/pandas/core/computation/expr.py\"\u001b[0m, line \u001b[1;32m798\u001b[0m, in \u001b[1;35m__init__\u001b[0m\n    self.terms = self.parse()\n",
      "  File \u001b[1;32m\"/shared/colin/git/tx_covid_models/env/lib/python3.8/site-packages/pandas/core/computation/expr.py\"\u001b[0m, line \u001b[1;32m817\u001b[0m, in \u001b[1;35mparse\u001b[0m\n    return self._visitor.visit(self.expr)\n",
      "  File \u001b[1;32m\"/shared/colin/git/tx_covid_models/env/lib/python3.8/site-packages/pandas/core/computation/expr.py\"\u001b[0m, line \u001b[1;32m397\u001b[0m, in \u001b[1;35mvisit\u001b[0m\n    raise e\n",
      "  File \u001b[1;32m\"/shared/colin/git/tx_covid_models/env/lib/python3.8/site-packages/pandas/core/computation/expr.py\"\u001b[0m, line \u001b[1;32m393\u001b[0m, in \u001b[1;35mvisit\u001b[0m\n    node = ast.fix_missing_locations(ast.parse(clean))\n",
      "\u001b[0;36m  File \u001b[0;32m\"/usr/lib/python3.8/ast.py\"\u001b[0;36m, line \u001b[0;32m47\u001b[0;36m, in \u001b[0;35mparse\u001b[0;36m\u001b[0m\n\u001b[0;31m    return compile(source, filename, mode, flags,\u001b[0m\n",
      "\u001b[0;36m  File \u001b[0;32m\"<unknown>\"\u001b[0;36m, line \u001b[0;32m1\u001b[0m\n\u001b[0;31m    County Name =='McLennan'\u001b[0m\n\u001b[0m           ^\u001b[0m\n\u001b[0;31mSyntaxError\u001b[0m\u001b[0;31m:\u001b[0m invalid syntax\n"
     ]
    }
   ],
   "source": [
    "# load total cases:\n",
    "coi_t, coi_y = load_case_counts()\n",
    "\n",
    "# indicate $ of data points:\n",
    "print('# of days tracked: ', len(coi_t))\n",
    "\n",
    "# plot active cases:\n",
    "plt.figure(figsize=(10,4))\n",
    "plt.ylabel('Total # of Cases')\n",
    "plt.title(f'Number of active cases ({coi_t[0]} to {coi_t[-1]})')\n",
    "plt.plot(coi_t, coi_y)\n",
    "plt.show()\n",
    "\n"
   ]
  },
  {
   "cell_type": "code",
   "execution_count": null,
   "id": "smoking-republican",
   "metadata": {},
   "outputs": [],
   "source": []
  }
 ],
 "metadata": {
  "kernelspec": {
   "display_name": "Python 3",
   "language": "python",
   "name": "python3"
  },
  "language_info": {
   "codemirror_mode": {
    "name": "ipython",
    "version": 3
   },
   "file_extension": ".py",
   "mimetype": "text/x-python",
   "name": "python",
   "nbconvert_exporter": "python",
   "pygments_lexer": "ipython3",
   "version": "3.8.6"
  }
 },
 "nbformat": 4,
 "nbformat_minor": 5
}
